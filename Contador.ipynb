{
  "nbformat": 4,
  "nbformat_minor": 0,
  "metadata": {
    "colab": {
      "name": "Contador.ipynb",
      "provenance": []
    },
    "kernelspec": {
      "name": "python3",
      "display_name": "Python 3"
    },
    "language_info": {
      "name": "python"
    }
  },
  "cells": [
    {
      "cell_type": "code",
      "metadata": {
        "id": "DyBB-_qfuJ__"
      },
      "source": [
        "def CuentaRegresiva( n ):\n",
        "  if n >= 0 :\n",
        "    print( n )\n",
        "    CuentaRegresiva( n - 1 )\n",
        "    if n == 0:\n",
        "      print ( \"BOOM!!!!!\")"
      ],
      "execution_count": 7,
      "outputs": []
    },
    {
      "cell_type": "code",
      "metadata": {
        "colab": {
          "base_uri": "https://localhost:8080/"
        },
        "id": "N-m6qp13uMDR",
        "outputId": "908f8610-7f81-4c0f-e0c7-f209537d859d"
      },
      "source": [
        "CuentaRegresiva (10)"
      ],
      "execution_count": 8,
      "outputs": [
        {
          "output_type": "stream",
          "name": "stdout",
          "text": [
            "10\n",
            "9\n",
            "8\n",
            "7\n",
            "6\n",
            "5\n",
            "4\n",
            "3\n",
            "2\n",
            "1\n",
            "0\n",
            "BOOM!!!!!\n"
          ]
        }
      ]
    }
  ]
}