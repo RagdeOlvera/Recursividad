{
  "nbformat": 4,
  "nbformat_minor": 0,
  "metadata": {
    "colab": {
      "name": "Suma_de_Numeros.ipynb",
      "provenance": []
    },
    "kernelspec": {
      "name": "python3",
      "display_name": "Python 3"
    },
    "language_info": {
      "name": "python"
    }
  },
  "cells": [
    {
      "cell_type": "code",
      "metadata": {
        "id": "0sa7gZ5ApnOh"
      },
      "source": [
        "def sumaN(n):\n",
        "  if n == 0:\n",
        "      return 0\n",
        "  else:\n",
        "      return n % 10 + sumaN(n // 10)"
      ],
      "execution_count": null,
      "outputs": []
    },
    {
      "cell_type": "code",
      "metadata": {
        "colab": {
          "base_uri": "https://localhost:8080/"
        },
        "id": "EkmHSWWMqDHh",
        "outputId": "1c3008f2-e4e9-403f-eb56-f955411b4e75"
      },
      "source": [
        "print (sumaN(1234))"
      ],
      "execution_count": null,
      "outputs": [
        {
          "output_type": "stream",
          "name": "stdout",
          "text": [
            "10\n"
          ]
        }
      ]
    }
  ]
}